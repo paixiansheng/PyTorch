{
 "cells": [
  {
   "cell_type": "code",
   "execution_count": 1,
   "metadata": {},
   "outputs": [],
   "source": [
    "from __future__ import print_function\n",
    "import torch"
   ]
  },
  {
   "cell_type": "code",
   "execution_count": 7,
   "metadata": {},
   "outputs": [
    {
     "name": "stdout",
     "output_type": "stream",
     "text": [
      "tensor([[ 1.3064,  0.8918, -1.0655],\n",
      "        [-0.4778, -0.1840,  0.3989],\n",
      "        [-0.1274, -0.9207, -2.7950],\n",
      "        [-1.1536, -0.8079, -0.7330],\n",
      "        [-0.1664, -1.0906, -0.7179]], dtype=torch.float64)\n"
     ]
    }
   ],
   "source": [
    "#创建\n",
    "#创建空\n",
    "x = torch.empty(5,3)\n",
    "#创建随机\n",
    "x = torch.rand(5,3)\n",
    "#直接根据数据创建\n",
    "x = torch.tensor([5.5,3])\n",
    "#还可以通过现有的 Tensor 来创建，此⽅方法会默认重⽤用输⼊入 Tensor 的一些属性，例例如数据类型。\n",
    "x = x.new_ones(5,3)\n",
    "x = torch.randn_like(x)\n",
    "#可以自定义数据类型来覆盖。\n",
    "x = x.new_ones(5,3,dtype = torch.float64)\n",
    "x = torch.randn_like(x,dtype = torch.float64)\n",
    "print(x)"
   ]
  },
  {
   "cell_type": "code",
   "execution_count": 8,
   "metadata": {},
   "outputs": [
    {
     "name": "stdout",
     "output_type": "stream",
     "text": [
      "torch.Size([5, 3])\n",
      "torch.Size([5, 3])\n"
     ]
    }
   ],
   "source": [
    "#属性\n",
    "#获取 Tensor 的形状\n",
    "print(x.size())\n",
    "print(x.shape)"
   ]
  },
  {
   "cell_type": "code",
   "execution_count": 15,
   "metadata": {},
   "outputs": [
    {
     "data": {
      "text/plain": [
       "tensor([[ 1.4005,  1.4855, -0.4312],\n",
       "        [-0.1011,  0.6049,  0.6622],\n",
       "        [-0.0116, -0.2573, -2.1454],\n",
       "        [-0.5326, -0.0159, -0.6919],\n",
       "        [ 0.6041, -0.4467,  0.1923]])"
      ]
     },
     "execution_count": 15,
     "metadata": {},
     "output_type": "execute_result"
    }
   ],
   "source": [
    "#运算\n",
    "#加法\n",
    "#同型形式1——直接加\n",
    "y = torch.rand(5, 3)\n",
    "#print(x + y)\n",
    "#同型形式2——add函数\n",
    "#print(torch.add(x, y))\n",
    "#同型形式3——原位/原地操作（in-place）\n",
    "y.add_(x)"
   ]
  },
  {
   "cell_type": "code",
   "execution_count": 19,
   "metadata": {},
   "outputs": [
    {
     "name": "stdout",
     "output_type": "stream",
     "text": [
      "tensor([-0.5412,  0.5990,  0.5724,  0.5496])\n",
      "torch.Size([4, 4]) torch.Size([16]) torch.Size([4, 4, 1])\n"
     ]
    }
   ],
   "source": [
    "#索引操作\n",
    "print(x[:, 1])\n",
    "#改变形状\n",
    "x = torch.randn(4, 4)\n",
    "y = x.view(16)\n",
    "z = x.view(4,4,-1)  # the size -1 is inferred from other dimensions\n",
    "print(x.size(), y.size(), z.size())\n",
    "#仅包含一个元素的tensor，可以使用.item()来得到对应的python数值\n",
    "x = torch.randn(1)\n",
    "print(x)\n",
    "print(x.item())"
   ]
  },
  {
   "cell_type": "code",
   "execution_count": null,
   "metadata": {},
   "outputs": [],
   "source": []
  }
 ],
 "metadata": {
  "kernelspec": {
   "display_name": "py3",
   "language": "python",
   "name": "py3"
  },
  "language_info": {
   "codemirror_mode": {
    "name": "ipython",
    "version": 3
   },
   "file_extension": ".py",
   "mimetype": "text/x-python",
   "name": "python",
   "nbconvert_exporter": "python",
   "pygments_lexer": "ipython3",
   "version": "3.6.9"
  }
 },
 "nbformat": 4,
 "nbformat_minor": 2
}
